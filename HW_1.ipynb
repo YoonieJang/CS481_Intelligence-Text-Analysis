{
  "nbformat": 4,
  "nbformat_minor": 0,
  "metadata": {
    "kernelspec": {
      "display_name": "Python 3",
      "language": "python",
      "name": "python3"
    },
    "language_info": {
      "codemirror_mode": {
        "name": "ipython",
        "version": 3
      },
      "file_extension": ".py",
      "mimetype": "text/x-python",
      "name": "python",
      "nbconvert_exporter": "python",
      "pygments_lexer": "ipython3",
      "version": "3.7.0"
    },
    "toc": {
      "base_numbering": 1,
      "nav_menu": {},
      "number_sections": true,
      "sideBar": true,
      "skip_h1_title": false,
      "title_cell": "Table of Contents",
      "title_sidebar": "Contents",
      "toc_cell": false,
      "toc_position": {},
      "toc_section_display": true,
      "toc_window_display": false
    },
    "colab": {
      "name": "HW_1.ipynb",
      "provenance": [],
      "collapsed_sections": [],
      "include_colab_link": true
    }
  },
  "cells": [
    {
      "cell_type": "markdown",
      "metadata": {
        "id": "view-in-github",
        "colab_type": "text"
      },
      "source": [
        "<a href=\"https://colab.research.google.com/github/YoonieJang/CS481_Intelligence-Text-Analysis/blob/main/HW_1.ipynb\" target=\"_parent\"><img src=\"https://colab.research.google.com/assets/colab-badge.svg\" alt=\"Open In Colab\"/></a>"
      ]
    },
    {
      "cell_type": "markdown",
      "metadata": {
        "id": "s47gT0bmfwks"
      },
      "source": [
        "# Explore NLTK"
      ]
    },
    {
      "cell_type": "code",
      "metadata": {
        "id": "gJRKzWyMfwky",
        "colab": {
          "base_uri": "https://localhost:8080/"
        },
        "outputId": "dd4b8300-e82a-48e4-85d3-da12ed2f2ecc"
      },
      "source": [
        "# import packages\n",
        "import nltk\n",
        "import pandas as pd\n",
        "nltk.download('brown')\n",
        "nltk.download('stopwords')\n",
        "from nltk.corpus import brown\n",
        "from matplotlib import pyplot as plt\n",
        "plt.style.use('default')\n",
        "nltk.download('wordnet')\n",
        "from nltk.corpus import wordnet as wn\n",
        "from nltk.corpus import stopwords\n",
        "import numpy as np"
      ],
      "execution_count": null,
      "outputs": [
        {
          "output_type": "stream",
          "text": [
            "[nltk_data] Downloading package brown to /root/nltk_data...\n",
            "[nltk_data]   Package brown is already up-to-date!\n",
            "[nltk_data] Downloading package stopwords to /root/nltk_data...\n",
            "[nltk_data]   Package stopwords is already up-to-date!\n",
            "[nltk_data] Downloading package wordnet to /root/nltk_data...\n",
            "[nltk_data]   Package wordnet is already up-to-date!\n"
          ],
          "name": "stdout"
        }
      ]
    },
    {
      "cell_type": "markdown",
      "metadata": {
        "id": "nuAwEMRsfwkz"
      },
      "source": [
        "## Part 1: explore the basic statistics of the Brown corpora\n",
        "- Please refer to notes in lec 03: https://github.com/iit-cs481/main/blob/main/Lectures/Lec_03/Lec_03_Text%20corpora..ipynb"
      ]
    },
    {
      "cell_type": "markdown",
      "metadata": {
        "id": "a3tzwg8Zfwk0"
      },
      "source": [
        "### Quiz(2)-Q2: \n",
        "You have picked one category of the Brown corpus as provided in Quiz(2)-Q1, please print the total number of words for this category\n"
      ]
    },
    {
      "cell_type": "code",
      "metadata": {
        "id": "-zxbp7bffwk0",
        "colab": {
          "base_uri": "https://localhost:8080/"
        },
        "outputId": "67130acd-72c4-474f-ae60-f4f9d658fb0e"
      },
      "source": [
        "print(\"Total number of words:\", len(brown.words(categories = 'romance')))"
      ],
      "execution_count": null,
      "outputs": [
        {
          "output_type": "stream",
          "text": [
            "Total number of words: 70022\n"
          ],
          "name": "stdout"
        }
      ]
    },
    {
      "cell_type": "markdown",
      "metadata": {
        "id": "m2F4DTF7fwk0"
      },
      "source": [
        "### Quiz(2)-Q3: \n",
        "please build a vocabulary for this corpus and print the number of word types (i.e., the number of words in the vocabulary)\n",
        "    - note: the vocabulary should only contain words that are composed of alphabet letters (no punctuations), you can use the .isalpha() funtcion to check"
      ]
    },
    {
      "cell_type": "code",
      "metadata": {
        "id": "9X8l2wIMfwk0",
        "colab": {
          "base_uri": "https://localhost:8080/"
        },
        "outputId": "977975d5-a98a-474b-881e-10d12c3f4767"
      },
      "source": [
        "rmc = brown.words(categories = 'romance')\n",
        "rmc_vocab = sorted(set(word.lower() for word in rmc))\n",
        "rmc_types = len(rmc_vocab)\n",
        "print(\"Total number of word types:\", rmc_types)"
      ],
      "execution_count": null,
      "outputs": [
        {
          "output_type": "stream",
          "text": [
            "Total number of word types: 7883\n"
          ],
          "name": "stdout"
        }
      ]
    },
    {
      "cell_type": "markdown",
      "metadata": {
        "id": "LVwTFIvWfwk1"
      },
      "source": [
        "### Quiz(2)-Q4: \n",
        "please calculate the lexical diversity score\n"
      ]
    },
    {
      "cell_type": "code",
      "metadata": {
        "id": "CKCq_t4Cfwk1",
        "colab": {
          "base_uri": "https://localhost:8080/"
        },
        "outputId": "0a13c1f1-b3e5-464a-e797-288f8ceb6d54"
      },
      "source": [
        "rmc_types = len(rmc_vocab)\n",
        "rmc_tokens = len(rmc)\n",
        "rmc_lexical_diversity = rmc_types/rmc_tokens\n",
        "\n",
        "print(\"lexical diversity:\", rmc_lexical_diversity)"
      ],
      "execution_count": null,
      "outputs": [
        {
          "output_type": "stream",
          "text": [
            "lexical diversity: 0.11257890377309988\n"
          ],
          "name": "stdout"
        }
      ]
    },
    {
      "cell_type": "markdown",
      "metadata": {
        "id": "vU6BWaNhfwk1"
      },
      "source": [
        "### Quiz(2)-Q5: \n",
        "please sort the words by frequency, print the 90th to 100th most frequently used words.\n",
        "    - e.g., word_list[90:100]\n"
      ]
    },
    {
      "cell_type": "code",
      "metadata": {
        "id": "UloxxdpLfwk1",
        "colab": {
          "base_uri": "https://localhost:8080/"
        },
        "outputId": "c7e8689e-5cbd-4582-b080-a693bfd1f0ed"
      },
      "source": [
        "def get_word_frequency():\n",
        "    \"\"\"\n",
        "    Calculate words' frequency and rank words by frequency descending order\n",
        "    \"\"\"\n",
        "    word_freq = {}\n",
        "\n",
        "    for word in rmc: # , 'editorial', 'reviews'\n",
        "        if(word.isalpha()): # check if a word only include alphabet letters\n",
        "            if(word not in word_freq):\n",
        "                word_freq[word] = 1\n",
        "            else:\n",
        "                word_freq[word] += 1\n",
        "\n",
        "    # sort in frequency descending order\n",
        "    sorted_word_freq = sorted(word_freq.items(), key=lambda item: item[1], reverse=True)\n",
        "    \n",
        "    return sorted_word_freq\n",
        "\n",
        "sorted_word_freq = get_word_frequency()\n",
        "\n",
        "def display_freq_words(sorted_word_freq, topn, below):\n",
        "    \"\"\"\n",
        "    display topn most frequent words \n",
        "    \"\"\"\n",
        "    word_freq_topn = sorted_word_freq[topn:below] \n",
        "\n",
        "    df_brown_topn = pd.DataFrame({'word': [word for word, freq in word_freq_topn],\n",
        "                       'frequency': [freq for word, freq in word_freq_topn],\n",
        "                       'rank': range(topn,below)})\n",
        "                                  \n",
        "    df_brown_topn['frequency*rank'] = df_brown_topn['frequency']*df_brown_topn['rank']\n",
        "\n",
        "    return df_brown_topn\n",
        "\n",
        "df_brown_topn = display_freq_words(sorted_word_freq, topn=89,below=99)\n",
        "\n",
        "print(\"The 90th to 100th words most frequently used:\\n\", df_brown_topn['word'])"
      ],
      "execution_count": null,
      "outputs": [
        {
          "output_type": "stream",
          "text": [
            "The 90th to 100th words most frequently used:\n",
            " 0      eyes\n",
            "1        go\n",
            "2      came\n",
            "3       see\n",
            "4       can\n",
            "5       old\n",
            "6      come\n",
            "7      even\n",
            "8       are\n",
            "9    looked\n",
            "Name: word, dtype: object\n"
          ],
          "name": "stdout"
        }
      ]
    },
    {
      "cell_type": "markdown",
      "metadata": {
        "id": "1JdmLgCdfwk2"
      },
      "source": [
        "### Please print a table to show: (word, frequency, rank, frequency\\*rank) for your dataset\n",
        "    - Refer to the format in the 1st table of \"Zipf's law\""
      ]
    },
    {
      "cell_type": "code",
      "metadata": {
        "id": "0l3AryEsfwk2",
        "colab": {
          "base_uri": "https://localhost:8080/",
          "height": 419
        },
        "outputId": "724bd460-90bf-4405-c411-878b469303e3"
      },
      "source": [
        "df_brown_tt = display_freq_words(sorted_word_freq, topn=0,below=len(sorted_word_freq))\n",
        "display(df_brown_tt)"
      ],
      "execution_count": null,
      "outputs": [
        {
          "output_type": "display_data",
          "data": {
            "text/html": [
              "<div>\n",
              "<style scoped>\n",
              "    .dataframe tbody tr th:only-of-type {\n",
              "        vertical-align: middle;\n",
              "    }\n",
              "\n",
              "    .dataframe tbody tr th {\n",
              "        vertical-align: top;\n",
              "    }\n",
              "\n",
              "    .dataframe thead th {\n",
              "        text-align: right;\n",
              "    }\n",
              "</style>\n",
              "<table border=\"1\" class=\"dataframe\">\n",
              "  <thead>\n",
              "    <tr style=\"text-align: right;\">\n",
              "      <th></th>\n",
              "      <th>word</th>\n",
              "      <th>frequency</th>\n",
              "      <th>rank</th>\n",
              "      <th>frequency*rank</th>\n",
              "    </tr>\n",
              "  </thead>\n",
              "  <tbody>\n",
              "    <tr>\n",
              "      <th>0</th>\n",
              "      <td>the</td>\n",
              "      <td>2758</td>\n",
              "      <td>0</td>\n",
              "      <td>0</td>\n",
              "    </tr>\n",
              "    <tr>\n",
              "      <th>1</th>\n",
              "      <td>and</td>\n",
              "      <td>1776</td>\n",
              "      <td>1</td>\n",
              "      <td>1776</td>\n",
              "    </tr>\n",
              "    <tr>\n",
              "      <th>2</th>\n",
              "      <td>to</td>\n",
              "      <td>1502</td>\n",
              "      <td>2</td>\n",
              "      <td>3004</td>\n",
              "    </tr>\n",
              "    <tr>\n",
              "      <th>3</th>\n",
              "      <td>a</td>\n",
              "      <td>1335</td>\n",
              "      <td>3</td>\n",
              "      <td>4005</td>\n",
              "    </tr>\n",
              "    <tr>\n",
              "      <th>4</th>\n",
              "      <td>of</td>\n",
              "      <td>1186</td>\n",
              "      <td>4</td>\n",
              "      <td>4744</td>\n",
              "    </tr>\n",
              "    <tr>\n",
              "      <th>...</th>\n",
              "      <td>...</td>\n",
              "      <td>...</td>\n",
              "      <td>...</td>\n",
              "      <td>...</td>\n",
              "    </tr>\n",
              "    <tr>\n",
              "      <th>7844</th>\n",
              "      <td>forefinger</td>\n",
              "      <td>1</td>\n",
              "      <td>7844</td>\n",
              "      <td>7844</td>\n",
              "    </tr>\n",
              "    <tr>\n",
              "      <th>7845</th>\n",
              "      <td>burly</td>\n",
              "      <td>1</td>\n",
              "      <td>7845</td>\n",
              "      <td>7845</td>\n",
              "    </tr>\n",
              "    <tr>\n",
              "      <th>7846</th>\n",
              "      <td>decked</td>\n",
              "      <td>1</td>\n",
              "      <td>7846</td>\n",
              "      <td>7846</td>\n",
              "    </tr>\n",
              "    <tr>\n",
              "      <th>7847</th>\n",
              "      <td>expect</td>\n",
              "      <td>1</td>\n",
              "      <td>7847</td>\n",
              "      <td>7847</td>\n",
              "    </tr>\n",
              "    <tr>\n",
              "      <th>7848</th>\n",
              "      <td>episode</td>\n",
              "      <td>1</td>\n",
              "      <td>7848</td>\n",
              "      <td>7848</td>\n",
              "    </tr>\n",
              "  </tbody>\n",
              "</table>\n",
              "<p>7849 rows × 4 columns</p>\n",
              "</div>"
            ],
            "text/plain": [
              "            word  frequency  rank  frequency*rank\n",
              "0            the       2758     0               0\n",
              "1            and       1776     1            1776\n",
              "2             to       1502     2            3004\n",
              "3              a       1335     3            4005\n",
              "4             of       1186     4            4744\n",
              "...          ...        ...   ...             ...\n",
              "7844  forefinger          1  7844            7844\n",
              "7845       burly          1  7845            7845\n",
              "7846      decked          1  7846            7846\n",
              "7847      expect          1  7847            7847\n",
              "7848     episode          1  7848            7848\n",
              "\n",
              "[7849 rows x 4 columns]"
            ]
          },
          "metadata": {
            "tags": []
          }
        }
      ]
    },
    {
      "cell_type": "markdown",
      "metadata": {
        "id": "NVPiUrpZfwk2"
      },
      "source": [
        "### Please plot the relationship between word rank and frequency:\n",
        "    - there should be two lines in the plot;\n",
        "    - one line is ploted as: x-axis: log(rank); y-axis: log(frequency);\n",
        "    - the other line is plotted as: x-axis: log(rank); y-axis: log(1/rank);\n",
        "    - Refer to the plot in lec 03 \"Relationship between word rank and frequency (Logarithmic)\"\n"
      ]
    },
    {
      "cell_type": "code",
      "metadata": {
        "id": "grgG2Zazfwk3",
        "colab": {
          "base_uri": "https://localhost:8080/",
          "height": 543
        },
        "outputId": "8d9fed78-db23-4553-9e2f-3470cc03aaac"
      },
      "source": [
        "df_brown_topn = display_freq_words(sorted_word_freq, topn= 0,below = len(sorted_word_freq))\n",
        "plt.plot(df_brown_topn['rank'].values, df_brown_topn['frequency'].values, 'o', label='(rank, freq)',alpha=0.5)\n",
        "plt.plot(df_brown_topn['rank'].values, [1/v for v in df_brown_topn['rank'].values], 'o', label='(rank, 1/rank)',alpha=0.5)\n",
        "plt.xlabel('rank')\n",
        "plt.ylabel('frequency / (1/rank)')\n",
        "plt.title(\"Relationship between word rank and frequency\")\n",
        "plt.legend()"
      ],
      "execution_count": null,
      "outputs": [
        {
          "output_type": "stream",
          "text": [
            "/usr/local/lib/python3.6/dist-packages/ipykernel_launcher.py:3: RuntimeWarning: divide by zero encountered in long_scalars\n",
            "  This is separate from the ipykernel package so we can avoid doing imports until\n"
          ],
          "name": "stderr"
        },
        {
          "output_type": "execute_result",
          "data": {
            "text/plain": [
              "<matplotlib.legend.Legend at 0x7fcae04778d0>"
            ]
          },
          "metadata": {
            "tags": []
          },
          "execution_count": 16
        },
        {
          "output_type": "display_data",
          "data": {
            "image/png": "[encoded data removed]",
            "text/plain": [
              "<Figure size 640x480 with 1 Axes>"
            ]
          },
          "metadata": {
            "tags": []
          }
        }
      ]
    },
    {
      "cell_type": "markdown",
      "metadata": {
        "id": "yt9BlJRFfwk3"
      },
      "source": [
        "## Part2: Explore Wordnet\n",
        "- Please refer to notes in lec_04: https://github.com/iit-cs481/main/blob/main/Lectures/Lec_04/Lec_04_Lexical%20resources.ipynb\n"
      ]
    },
    {
      "cell_type": "code",
      "metadata": {
        "id": "tPz50XTPfwk3",
        "colab": {
          "base_uri": "https://localhost:8080/"
        },
        "outputId": "f6704a1b-0f6e-4790-8f2b-684e759a84c2"
      },
      "source": [
        "nltk.download('wordnet')\n",
        "from nltk.corpus import wordnet as wn"
      ],
      "execution_count": null,
      "outputs": [
        {
          "output_type": "stream",
          "text": [
            "[nltk_data] Downloading package wordnet to /root/nltk_data...\n",
            "[nltk_data]   Package wordnet is already up-to-date!\n"
          ],
          "name": "stdout"
        }
      ]
    },
    {
      "cell_type": "markdown",
      "metadata": {
        "id": "9LdMIiqGfwk4"
      },
      "source": [
        "### Please print the synsets of 'dog'\n"
      ]
    },
    {
      "cell_type": "code",
      "metadata": {
        "id": "LJIJh8w5fwk4",
        "colab": {
          "base_uri": "https://localhost:8080/"
        },
        "outputId": "65c56932-a37d-47de-c569-b483adac3b4f"
      },
      "source": [
        "wn.synsets('dog')"
      ],
      "execution_count": null,
      "outputs": [
        {
          "output_type": "execute_result",
          "data": {
            "text/plain": [
              "[Synset('dog.n.01'),\n",
              " Synset('frump.n.01'),\n",
              " Synset('dog.n.03'),\n",
              " Synset('cad.n.01'),\n",
              " Synset('frank.n.02'),\n",
              " Synset('pawl.n.01'),\n",
              " Synset('andiron.n.01'),\n",
              " Synset('chase.v.01')]"
            ]
          },
          "metadata": {
            "tags": []
          },
          "execution_count": 18
        }
      ]
    },
    {
      "cell_type": "markdown",
      "metadata": {
        "id": "be86GPP4fwk4"
      },
      "source": [
        "### Please print the definition of the first synset of 'dog'\n"
      ]
    },
    {
      "cell_type": "code",
      "metadata": {
        "id": "ezrEh1YYfwk4",
        "colab": {
          "base_uri": "https://localhost:8080/"
        },
        "outputId": "45dee5fc-a802-4a41-f3fd-4f09b94b29df"
      },
      "source": [
        "print(wn.synset('dog.n.01').definition()) "
      ],
      "execution_count": null,
      "outputs": [
        {
          "output_type": "stream",
          "text": [
            "a member of the genus Canis (probably descended from the common wolf) that has been domesticated by man since prehistoric times; occurs in many breeds\n"
          ],
          "name": "stdout"
        }
      ]
    },
    {
      "cell_type": "markdown",
      "metadata": {
        "id": "WZLX1ajwfwk5"
      },
      "source": [
        "### Please print the example usage of the first synset\n"
      ]
    },
    {
      "cell_type": "code",
      "metadata": {
        "id": "3UlskvmIfwk5",
        "colab": {
          "base_uri": "https://localhost:8080/"
        },
        "outputId": "c9aec7b9-a25c-46bb-c679-7360c2ec54fb"
      },
      "source": [
        "print(wn.synset('dog.n.01').examples())"
      ],
      "execution_count": null,
      "outputs": [
        {
          "output_type": "stream",
          "text": [
            "['the dog barked all night']\n"
          ],
          "name": "stdout"
        }
      ]
    },
    {
      "cell_type": "markdown",
      "metadata": {
        "id": "gQUVQG23fwk5"
      },
      "source": [
        "### Please print the list of lemmas of the first synset\n"
      ]
    },
    {
      "cell_type": "code",
      "metadata": {
        "id": "Ac-kOojGfwk5",
        "colab": {
          "base_uri": "https://localhost:8080/"
        },
        "outputId": "f71c057c-1de6-4ebc-bac9-61cc148a8f5a"
      },
      "source": [
        "wn.synset('dog.n.01').lemmas()"
      ],
      "execution_count": null,
      "outputs": [
        {
          "output_type": "execute_result",
          "data": {
            "text/plain": [
              "[Lemma('dog.n.01.dog'),\n",
              " Lemma('dog.n.01.domestic_dog'),\n",
              " Lemma('dog.n.01.Canis_familiaris')]"
            ]
          },
          "metadata": {
            "tags": []
          },
          "execution_count": 21
        }
      ]
    },
    {
      "cell_type": "markdown",
      "metadata": {
        "id": "qBC-Gq2wfwk5"
      },
      "source": [
        "### Please print the synonyms of the word 'dog'\n",
        "    - print in the format of: synset, list of lemma names\n",
        "    - refer to the format in lec 04 \"Synonyms\""
      ]
    },
    {
      "cell_type": "code",
      "metadata": {
        "id": "DheBS0qxfwk6",
        "colab": {
          "base_uri": "https://localhost:8080/"
        },
        "outputId": "9697483c-5a43-4104-b1bc-daa1240b02e1"
      },
      "source": [
        "word_synonyms=[]\n",
        "print(\"synonyms of the word 'dog':\\n\")\n",
        "for syn in wn.synsets(\"dog\"):\n",
        "    print(syn, syn.lemma_names())"
      ],
      "execution_count": null,
      "outputs": [
        {
          "output_type": "stream",
          "text": [
            "synonyms of the word 'dog':\n",
            "\n",
            "Synset('dog.n.01') ['dog', 'domestic_dog', 'Canis_familiaris']\n",
            "Synset('frump.n.01') ['frump', 'dog']\n",
            "Synset('dog.n.03') ['dog']\n",
            "Synset('cad.n.01') ['cad', 'bounder', 'blackguard', 'dog', 'hound', 'heel']\n",
            "Synset('frank.n.02') ['frank', 'frankfurter', 'hotdog', 'hot_dog', 'dog', 'wiener', 'wienerwurst', 'weenie']\n",
            "Synset('pawl.n.01') ['pawl', 'detent', 'click', 'dog']\n",
            "Synset('andiron.n.01') ['andiron', 'firedog', 'dog', 'dog-iron']\n",
            "Synset('chase.v.01') ['chase', 'chase_after', 'trail', 'tail', 'tag', 'give_chase', 'dog', 'go_after', 'track']\n"
          ],
          "name": "stdout"
        }
      ]
    },
    {
      "cell_type": "markdown",
      "metadata": {
        "id": "t8vTAauwfwk6"
      },
      "source": [
        "### Please print the antonyms of the word 'dog'\n",
        "    - hint: iterate over each synset of 'dog' and get antonyms for each lemma in each synset\n",
        "    - refer to the format in lec 04 \"Antonyms\"\n",
        "    "
      ]
    },
    {
      "cell_type": "code",
      "metadata": {
        "id": "-6QPBhKYfwk6",
        "colab": {
          "base_uri": "https://localhost:8080/"
        },
        "outputId": "a89958ef-73e4-4f32-cecc-eac8d6e2fe91"
      },
      "source": [
        "word_antonyms = []\n",
        "\n",
        "for syn in wn.synsets(\"dog\"): # iterate over the synonym sets of \"good\"\n",
        "    for lm in syn.lemmas(): # iterate over each lemma of a given synset\n",
        "        if lm.antonyms():\n",
        "            word_antonyms.append(lm.antonyms()[0].name())\n",
        "\n",
        "print(word_antonyms)"
      ],
      "execution_count": null,
      "outputs": [
        {
          "output_type": "stream",
          "text": [
            "[]\n"
          ],
          "name": "stdout"
        }
      ]
    },
    {
      "cell_type": "markdown",
      "metadata": {
        "id": "pEttzD1ifwk6"
      },
      "source": [
        "### Please print the semantic similarity between 'dog' and 'cat'\n",
        "    - Please calculate similarity score using the following two functions\n",
        "        - path_similarity()\n",
        "        - wup_similarity()"
      ]
    },
    {
      "cell_type": "code",
      "metadata": {
        "id": "bqmmPoA2fwk7",
        "colab": {
          "base_uri": "https://localhost:8080/"
        },
        "outputId": "bb5aac1e-f853-46f5-90ed-85fd44613852"
      },
      "source": [
        "cat = wn.synsets('cat')[0]\n",
        "dog = wn.synsets('dog')[0]\n",
        "cat.path_similarity(dog)"
      ],
      "execution_count": null,
      "outputs": [
        {
          "output_type": "execute_result",
          "data": {
            "text/plain": [
              "0.2"
            ]
          },
          "metadata": {
            "tags": []
          },
          "execution_count": 24
        }
      ]
    },
    {
      "cell_type": "code",
      "metadata": {
        "id": "G74ExrhDfwk7",
        "colab": {
          "base_uri": "https://localhost:8080/"
        },
        "outputId": "8dd27820-50bd-4f91-d646-f74ef03d5251"
      },
      "source": [
        "cat.wup_similarity(dog)"
      ],
      "execution_count": null,
      "outputs": [
        {
          "output_type": "execute_result",
          "data": {
            "text/plain": [
              "0.8571428571428571"
            ]
          },
          "metadata": {
            "tags": []
          },
          "execution_count": 25
        }
      ]
    }
  ]
}